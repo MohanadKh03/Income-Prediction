{
  "nbformat": 4,
  "nbformat_minor": 0,
  "metadata": {
    "colab": {
      "provenance": [],
      "include_colab_link": true
    },
    "kernelspec": {
      "name": "python3",
      "display_name": "Python 3"
    },
    "language_info": {
      "name": "python"
    }
  },
  "cells": [
    {
      "cell_type": "markdown",
      "metadata": {
        "id": "view-in-github",
        "colab_type": "text"
      },
      "source": [
        "<a href=\"https://colab.research.google.com/github/MohanadKh03/Income-Prediction/blob/main/Income_Prediction_AI_Project.ipynb\" target=\"_parent\"><img src=\"https://colab.research.google.com/assets/colab-badge.svg\" alt=\"Open In Colab\"/></a>"
      ]
    },
    {
      "cell_type": "code",
      "execution_count": 1728,
      "metadata": {
        "id": "OcWXIWL2JjBA"
      },
      "outputs": [],
      "source": [
        "import numpy as np\n",
        "import scipy as sp\n",
        "import pandas as pd\n",
        "import seaborn as sns\n",
        "import matplotlib.pyplot as plt\n",
        "import math\n",
        "from sklearn import linear_model\n",
        "from sklearn import metrics\n",
        "from sklearn.preprocessing import PolynomialFeatures\n",
        "from sklearn.model_selection import train_test_split\n",
        "from sklearn.preprocessing import LabelEncoder\n",
        "from sklearn.preprocessing import StandardScaler\n",
        "\n",
        "#Accuracy measures\n",
        "from sklearn.metrics import confusion_matrix\n",
        "from sklearn.metrics import accuracy_score\n",
        "from sklearn.metrics import precision_score\n",
        "from sklearn.metrics import recall_score\n",
        "from sklearn.metrics import f1_score\n",
        "\n",
        "#\n",
        "from sklearn.svm import SVC\n",
        "from sklearn.linear_model import LogisticRegression\n",
        "from sklearn import tree\n",
        "from sklearn.tree import DecisionTreeClassifier"
      ]
    },
    {
      "cell_type": "code",
      "source": [
        "data = pd.read_csv(\"/content/train_data.csv\")\n",
        "\n",
        "lbl = LabelEncoder()"
      ],
      "metadata": {
        "id": "Lg4awRUUMDsU"
      },
      "execution_count": 1729,
      "outputs": []
    },
    {
      "cell_type": "code",
      "source": [
        "#count =(data['capital-gain']==0).sum()\n",
        "#print(count)\n",
        "#data.isin([\" ?\"]).sum()\n",
        "#count =(data['capital-loss']==0).sum()\n",
        "#print(count)\n",
        "\n",
        "education_count = data.groupby('education-num').size().reset_index(name='count')\n",
        "\n",
        "print(education_count)\n"
      ],
      "metadata": {
        "id": "GLbVZ3fwE4Je",
        "colab": {
          "base_uri": "https://localhost:8080/"
        },
        "outputId": "63bce249-7618-4190-a7e2-2166a105a8e1"
      },
      "execution_count": 1730,
      "outputs": [
        {
          "output_type": "stream",
          "name": "stdout",
          "text": [
            "    education-num  count\n",
            "0               1     51\n",
            "1               2    168\n",
            "2               3    333\n",
            "3               4    646\n",
            "4               5    514\n",
            "5               6    933\n",
            "6               7   1175\n",
            "7               8    433\n",
            "8               9  10501\n",
            "9              10   7291\n",
            "10             11   1382\n",
            "11             12   1067\n",
            "12             13   5355\n",
            "13             14   1723\n",
            "14             15    576\n",
            "15             16    413\n"
          ]
        }
      ]
    },
    {
      "cell_type": "code",
      "source": [
        "#  q1  q2  q3\n",
        "data.describe()"
      ],
      "metadata": {
        "id": "WLGepQj_NZV_",
        "colab": {
          "base_uri": "https://localhost:8080/",
          "height": 300
        },
        "outputId": "c5cae0ef-8d8c-44a9-c6f0-3a05503733d8"
      },
      "execution_count": 1731,
      "outputs": [
        {
          "output_type": "execute_result",
          "data": {
            "text/plain": [
              "                age        fnlwgt  education-num  capital-gain  capital-loss  \\\n",
              "count  32561.000000  3.256100e+04   32561.000000  32561.000000  32561.000000   \n",
              "mean      38.581647  1.897784e+05      10.080679   1077.648844     87.303830   \n",
              "std       13.640433  1.055500e+05       2.572720   7385.292085    402.960219   \n",
              "min       17.000000  1.228500e+04       1.000000      0.000000      0.000000   \n",
              "25%       28.000000  1.178270e+05       9.000000      0.000000      0.000000   \n",
              "50%       37.000000  1.783560e+05      10.000000      0.000000      0.000000   \n",
              "75%       48.000000  2.370510e+05      12.000000      0.000000      0.000000   \n",
              "max       90.000000  1.484705e+06      16.000000  99999.000000   4356.000000   \n",
              "\n",
              "       hours-per-week  \n",
              "count    32561.000000  \n",
              "mean        40.437456  \n",
              "std         12.347429  \n",
              "min          1.000000  \n",
              "25%         40.000000  \n",
              "50%         40.000000  \n",
              "75%         45.000000  \n",
              "max         99.000000  "
            ],
            "text/html": [
              "\n",
              "  <div id=\"df-a0fd3033-301e-4880-ae21-98151410a154\">\n",
              "    <div class=\"colab-df-container\">\n",
              "      <div>\n",
              "<style scoped>\n",
              "    .dataframe tbody tr th:only-of-type {\n",
              "        vertical-align: middle;\n",
              "    }\n",
              "\n",
              "    .dataframe tbody tr th {\n",
              "        vertical-align: top;\n",
              "    }\n",
              "\n",
              "    .dataframe thead th {\n",
              "        text-align: right;\n",
              "    }\n",
              "</style>\n",
              "<table border=\"1\" class=\"dataframe\">\n",
              "  <thead>\n",
              "    <tr style=\"text-align: right;\">\n",
              "      <th></th>\n",
              "      <th>age</th>\n",
              "      <th>fnlwgt</th>\n",
              "      <th>education-num</th>\n",
              "      <th>capital-gain</th>\n",
              "      <th>capital-loss</th>\n",
              "      <th>hours-per-week</th>\n",
              "    </tr>\n",
              "  </thead>\n",
              "  <tbody>\n",
              "    <tr>\n",
              "      <th>count</th>\n",
              "      <td>32561.000000</td>\n",
              "      <td>3.256100e+04</td>\n",
              "      <td>32561.000000</td>\n",
              "      <td>32561.000000</td>\n",
              "      <td>32561.000000</td>\n",
              "      <td>32561.000000</td>\n",
              "    </tr>\n",
              "    <tr>\n",
              "      <th>mean</th>\n",
              "      <td>38.581647</td>\n",
              "      <td>1.897784e+05</td>\n",
              "      <td>10.080679</td>\n",
              "      <td>1077.648844</td>\n",
              "      <td>87.303830</td>\n",
              "      <td>40.437456</td>\n",
              "    </tr>\n",
              "    <tr>\n",
              "      <th>std</th>\n",
              "      <td>13.640433</td>\n",
              "      <td>1.055500e+05</td>\n",
              "      <td>2.572720</td>\n",
              "      <td>7385.292085</td>\n",
              "      <td>402.960219</td>\n",
              "      <td>12.347429</td>\n",
              "    </tr>\n",
              "    <tr>\n",
              "      <th>min</th>\n",
              "      <td>17.000000</td>\n",
              "      <td>1.228500e+04</td>\n",
              "      <td>1.000000</td>\n",
              "      <td>0.000000</td>\n",
              "      <td>0.000000</td>\n",
              "      <td>1.000000</td>\n",
              "    </tr>\n",
              "    <tr>\n",
              "      <th>25%</th>\n",
              "      <td>28.000000</td>\n",
              "      <td>1.178270e+05</td>\n",
              "      <td>9.000000</td>\n",
              "      <td>0.000000</td>\n",
              "      <td>0.000000</td>\n",
              "      <td>40.000000</td>\n",
              "    </tr>\n",
              "    <tr>\n",
              "      <th>50%</th>\n",
              "      <td>37.000000</td>\n",
              "      <td>1.783560e+05</td>\n",
              "      <td>10.000000</td>\n",
              "      <td>0.000000</td>\n",
              "      <td>0.000000</td>\n",
              "      <td>40.000000</td>\n",
              "    </tr>\n",
              "    <tr>\n",
              "      <th>75%</th>\n",
              "      <td>48.000000</td>\n",
              "      <td>2.370510e+05</td>\n",
              "      <td>12.000000</td>\n",
              "      <td>0.000000</td>\n",
              "      <td>0.000000</td>\n",
              "      <td>45.000000</td>\n",
              "    </tr>\n",
              "    <tr>\n",
              "      <th>max</th>\n",
              "      <td>90.000000</td>\n",
              "      <td>1.484705e+06</td>\n",
              "      <td>16.000000</td>\n",
              "      <td>99999.000000</td>\n",
              "      <td>4356.000000</td>\n",
              "      <td>99.000000</td>\n",
              "    </tr>\n",
              "  </tbody>\n",
              "</table>\n",
              "</div>\n",
              "      <button class=\"colab-df-convert\" onclick=\"convertToInteractive('df-a0fd3033-301e-4880-ae21-98151410a154')\"\n",
              "              title=\"Convert this dataframe to an interactive table.\"\n",
              "              style=\"display:none;\">\n",
              "        \n",
              "  <svg xmlns=\"http://www.w3.org/2000/svg\" height=\"24px\"viewBox=\"0 0 24 24\"\n",
              "       width=\"24px\">\n",
              "    <path d=\"M0 0h24v24H0V0z\" fill=\"none\"/>\n",
              "    <path d=\"M18.56 5.44l.94 2.06.94-2.06 2.06-.94-2.06-.94-.94-2.06-.94 2.06-2.06.94zm-11 1L8.5 8.5l.94-2.06 2.06-.94-2.06-.94L8.5 2.5l-.94 2.06-2.06.94zm10 10l.94 2.06.94-2.06 2.06-.94-2.06-.94-.94-2.06-.94 2.06-2.06.94z\"/><path d=\"M17.41 7.96l-1.37-1.37c-.4-.4-.92-.59-1.43-.59-.52 0-1.04.2-1.43.59L10.3 9.45l-7.72 7.72c-.78.78-.78 2.05 0 2.83L4 21.41c.39.39.9.59 1.41.59.51 0 1.02-.2 1.41-.59l7.78-7.78 2.81-2.81c.8-.78.8-2.07 0-2.86zM5.41 20L4 18.59l7.72-7.72 1.47 1.35L5.41 20z\"/>\n",
              "  </svg>\n",
              "      </button>\n",
              "      \n",
              "  <style>\n",
              "    .colab-df-container {\n",
              "      display:flex;\n",
              "      flex-wrap:wrap;\n",
              "      gap: 12px;\n",
              "    }\n",
              "\n",
              "    .colab-df-convert {\n",
              "      background-color: #E8F0FE;\n",
              "      border: none;\n",
              "      border-radius: 50%;\n",
              "      cursor: pointer;\n",
              "      display: none;\n",
              "      fill: #1967D2;\n",
              "      height: 32px;\n",
              "      padding: 0 0 0 0;\n",
              "      width: 32px;\n",
              "    }\n",
              "\n",
              "    .colab-df-convert:hover {\n",
              "      background-color: #E2EBFA;\n",
              "      box-shadow: 0px 1px 2px rgba(60, 64, 67, 0.3), 0px 1px 3px 1px rgba(60, 64, 67, 0.15);\n",
              "      fill: #174EA6;\n",
              "    }\n",
              "\n",
              "    [theme=dark] .colab-df-convert {\n",
              "      background-color: #3B4455;\n",
              "      fill: #D2E3FC;\n",
              "    }\n",
              "\n",
              "    [theme=dark] .colab-df-convert:hover {\n",
              "      background-color: #434B5C;\n",
              "      box-shadow: 0px 1px 3px 1px rgba(0, 0, 0, 0.15);\n",
              "      filter: drop-shadow(0px 1px 2px rgba(0, 0, 0, 0.3));\n",
              "      fill: #FFFFFF;\n",
              "    }\n",
              "  </style>\n",
              "\n",
              "      <script>\n",
              "        const buttonEl =\n",
              "          document.querySelector('#df-a0fd3033-301e-4880-ae21-98151410a154 button.colab-df-convert');\n",
              "        buttonEl.style.display =\n",
              "          google.colab.kernel.accessAllowed ? 'block' : 'none';\n",
              "\n",
              "        async function convertToInteractive(key) {\n",
              "          const element = document.querySelector('#df-a0fd3033-301e-4880-ae21-98151410a154');\n",
              "          const dataTable =\n",
              "            await google.colab.kernel.invokeFunction('convertToInteractive',\n",
              "                                                     [key], {});\n",
              "          if (!dataTable) return;\n",
              "\n",
              "          const docLinkHtml = 'Like what you see? Visit the ' +\n",
              "            '<a target=\"_blank\" href=https://colab.research.google.com/notebooks/data_table.ipynb>data table notebook</a>'\n",
              "            + ' to learn more about interactive tables.';\n",
              "          element.innerHTML = '';\n",
              "          dataTable['output_type'] = 'display_data';\n",
              "          await google.colab.output.renderOutput(dataTable, element);\n",
              "          const docLink = document.createElement('div');\n",
              "          docLink.innerHTML = docLinkHtml;\n",
              "          element.appendChild(docLink);\n",
              "        }\n",
              "      </script>\n",
              "    </div>\n",
              "  </div>\n",
              "  "
            ]
          },
          "metadata": {},
          "execution_count": 1731
        }
      ]
    },
    {
      "cell_type": "code",
      "source": [
        "data=data.replace(' ?' , np.NaN) #convert any question mark to null\n",
        "# solve problem of feature selesction\n",
        "\n",
        "data.drop('fnlwgt',axis=1 ,inplace=True)\n",
        "data.drop('capital-gain',axis=1 ,inplace=True)\n",
        "data.drop('capital-loss',axis=1 ,inplace=True)\n",
        "data.drop('relationship',axis=1 ,inplace=True)\n"
      ],
      "metadata": {
        "id": "-z1rAja4E7OB"
      },
      "execution_count": 1732,
      "outputs": []
    },
    {
      "cell_type": "code",
      "source": [
        "#solve problem of nulls\n",
        "\n",
        "data['workclass'].fillna(data['workclass'].mode()[0],inplace=True) # tets sucseesded\n",
        "data['occupation'].fillna(data['occupation'].mode()[0],inplace=True) # test sucseeded\n",
        "data['native-country'].fillna(data['native-country'].mode()[0],inplace=True) # test sucseeded\n"
      ],
      "metadata": {
        "id": "XsSc08d_Ql7S"
      },
      "execution_count": 1733,
      "outputs": []
    },
    {
      "cell_type": "code",
      "source": [
        "#solve problem of outliers\n",
        "\n",
        "# education num column\n",
        "edu_q1=9\n",
        "edu_q3=12\n",
        "edu_IQR=edu_q3-edu_q1\n",
        "minconvert=math.ceil(edu_q1-1.5*edu_IQR)\n",
        "maxconvert=math.floor(edu_q3+1.5*edu_IQR)\n",
        "data.loc[data['education-num']<minconvert,'education-num']=minconvert\n",
        "data.loc[data['education-num']>maxconvert,'education-num']=maxconvert\n",
        "\n",
        "#hours per week \n",
        "hours_q1=40\n",
        "hours_q3=45\n",
        "hours_IQR=hours_q3-hours_q1\n",
        "minconvert2=math.ceil(hours_q1-1.5*hours_IQR)\n",
        "maxconvert2=math.floor(hours_q3+1.5*hours_IQR)\n",
        "data.loc[data['hours-per-week']<minconvert2,'hours-per-week']=minconvert2\n",
        "data.loc[data['hours-per-week']>maxconvert2,'hours-per-week']=maxconvert2\n"
      ],
      "metadata": {
        "id": "L3pZ70MRVmZc"
      },
      "execution_count": 1734,
      "outputs": []
    },
    {
      "cell_type": "code",
      "source": [
        "\n",
        "print(minconvert2)\n",
        "print(maxconvert2)\n"
      ],
      "metadata": {
        "id": "AzbPjaA1Z7Ym",
        "colab": {
          "base_uri": "https://localhost:8080/"
        },
        "outputId": "c2f4bdb9-85aa-4a97-f5d1-03169d270b27"
      },
      "execution_count": 1735,
      "outputs": [
        {
          "output_type": "stream",
          "name": "stdout",
          "text": [
            "33\n",
            "52\n"
          ]
        }
      ]
    },
    {
      "cell_type": "code",
      "source": [
        "\n",
        "education_count = data.groupby('hours-per-week').size().reset_index(name='count')\n",
        "\n",
        "print(education_count)\n"
      ],
      "metadata": {
        "id": "2HESGr3DZTCK",
        "colab": {
          "base_uri": "https://localhost:8080/"
        },
        "outputId": "1ee5dd34-84c2-4a5b-de6f-1e150776fdbd"
      },
      "execution_count": 1736,
      "outputs": [
        {
          "output_type": "stream",
          "name": "stdout",
          "text": [
            "    hours-per-week  count\n",
            "0               33   5555\n",
            "1               34     28\n",
            "2               35   1297\n",
            "3               36    220\n",
            "4               37    149\n",
            "5               38    476\n",
            "6               39     38\n",
            "7               40  15217\n",
            "8               41     36\n",
            "9               42    219\n",
            "10              43    151\n",
            "11              44    212\n",
            "12              45   1824\n",
            "13              46     82\n",
            "14              47     49\n",
            "15              48    517\n",
            "16              49     29\n",
            "17              50   2819\n",
            "18              51     13\n",
            "19              52   3630\n"
          ]
        }
      ]
    },
    {
      "cell_type": "code",
      "source": [
        "x_train = data.drop(['Income '],axis=1)\n",
        "y_train = data['Income ']"
      ],
      "metadata": {
        "id": "zyvJwMQyN4tN"
      },
      "execution_count": 1737,
      "outputs": []
    },
    {
      "cell_type": "code",
      "source": [
        "def Feature_Encoder(X,cols):\n",
        "    for c in cols:\n",
        "        X[c] = lbl.fit_transform(X[c])\n",
        "    return X"
      ],
      "metadata": {
        "id": "U0j7N-UWOjpf"
      },
      "execution_count": 1738,
      "outputs": []
    },
    {
      "cell_type": "code",
      "source": [
        "cols = (\"workclass\",\"education\",\"marital-status\",\"occupation\",\"race\",\"sex\",\"native-country\")\n",
        "x_train = Feature_Encoder(x_train,cols)\n",
        "y_train = lbl.fit_transform(y_train)"
      ],
      "metadata": {
        "id": "WSBW6OAKWKsX"
      },
      "execution_count": 1739,
      "outputs": []
    },
    {
      "cell_type": "code",
      "source": [
        "test = pd.read_csv('/content/test_data.csv')\n",
        "test=test.replace(' ?' , np.NaN)\n",
        "\n",
        "#solve problem of featur selection\n",
        "test.drop('fnlwgt',axis=1 ,inplace=True)\n",
        "test.drop('capital-gain',axis=1 ,inplace=True)\n",
        "test.drop('capital-loss',axis=1 ,inplace=True)\n",
        "test.drop('relationship',axis=1 ,inplace=True)\n"
      ],
      "metadata": {
        "id": "5bQ7PzBLTZ4d"
      },
      "execution_count": 1740,
      "outputs": []
    },
    {
      "cell_type": "code",
      "source": [
        "test.isnull().sum()"
      ],
      "metadata": {
        "id": "lijZEpxfZzcu",
        "colab": {
          "base_uri": "https://localhost:8080/"
        },
        "outputId": "5c06b0a8-8baf-46b9-e198-8d67fc8ded32"
      },
      "execution_count": 1741,
      "outputs": [
        {
          "output_type": "execute_result",
          "data": {
            "text/plain": [
              "age                 0\n",
              "workclass         963\n",
              "education           0\n",
              "education-num       0\n",
              "marital-status      0\n",
              "occupation        966\n",
              "race                0\n",
              "sex                 0\n",
              "hours-per-week      0\n",
              "native-country    274\n",
              "Income              0\n",
              "dtype: int64"
            ]
          },
          "metadata": {},
          "execution_count": 1741
        }
      ]
    },
    {
      "cell_type": "code",
      "source": [
        "#solve problem of nulls\n",
        "\n",
        "test['workclass'].fillna(data['workclass'].mode()[0],inplace=True) # tets sucseesded\n",
        "test['occupation'].fillna(data['occupation'].mode()[0],inplace=True) # test sucseeded\n",
        "test['native-country'].fillna(data['native-country'].mode()[0],inplace=True) # test sucseeded\n"
      ],
      "metadata": {
        "id": "GULbLmvVUBA7"
      },
      "execution_count": 1742,
      "outputs": []
    },
    {
      "cell_type": "code",
      "source": [
        "#solve problem of outliers\n",
        "\n",
        "# education num column\n",
        "edu_q1=9\n",
        "edu_q3=12\n",
        "edu_IQR=edu_q3-edu_q1\n",
        "minconvert=math.ceil(edu_q1-1.5*edu_IQR)\n",
        "maxconvert=math.floor(edu_q3+1.5*edu_IQR)\n",
        "test.loc[test['education-num']<minconvert,'education-num']=minconvert\n",
        "test.loc[test['education-num']>maxconvert,'education-num']=maxconvert\n",
        "\n",
        "#hours per week \n",
        "hours_q1=40\n",
        "hours_q3=45\n",
        "hours_IQR=hours_q3-hours_q1\n",
        "minconvert2=math.ceil(hours_q1-1.5*hours_IQR)\n",
        "maxconvert2=math.floor(hours_q3+1.5*hours_IQR)\n",
        "test.loc[test['hours-per-week']<minconvert2,'hours-per-week']=minconvert2\n",
        "test.loc[test['hours-per-week']>maxconvert2,'hours-per-week']=maxconvert2\n"
      ],
      "metadata": {
        "id": "de7n-zByeAdp"
      },
      "execution_count": 1743,
      "outputs": []
    },
    {
      "cell_type": "code",
      "source": [
        "x_test = test.drop(['Income '], axis=1)\n",
        "y_test = test['Income ']"
      ],
      "metadata": {
        "id": "ROqvirb7ZNl8"
      },
      "execution_count": 1744,
      "outputs": []
    },
    {
      "cell_type": "code",
      "source": [
        "x_test = Feature_Encoder(x_test,cols)\n",
        "y_test = lbl.fit_transform(y_test)"
      ],
      "metadata": {
        "id": "adKjlxugaxoT"
      },
      "execution_count": 1745,
      "outputs": []
    },
    {
      "cell_type": "code",
      "source": [
        "sc_x = StandardScaler()\n",
        "x_train = sc_x.fit_transform(x_train)\n",
        "x_test = sc_x.transform(x_test)"
      ],
      "metadata": {
        "id": "DdQEz-Gga4IK"
      },
      "execution_count": 1746,
      "outputs": []
    },
    {
      "cell_type": "code",
      "source": [
        "#Logistic Regression\n",
        "classifier = LogisticRegression(random_state = 44)\n",
        "classifier.fit(x_train, y_train)\n",
        "y_pred = classifier.predict(x_test)"
      ],
      "metadata": {
        "id": "TOUPW1_abYqQ"
      },
      "execution_count": 1747,
      "outputs": []
    },
    {
      "cell_type": "code",
      "source": [
        "y_pred"
      ],
      "metadata": {
        "id": "3VknfAAtcpk8",
        "colab": {
          "base_uri": "https://localhost:8080/"
        },
        "outputId": "5da5b8ec-c104-452c-b639-70111fb22ac9"
      },
      "execution_count": 1748,
      "outputs": [
        {
          "output_type": "execute_result",
          "data": {
            "text/plain": [
              "array([0, 0, 0, ..., 1, 1, 1])"
            ]
          },
          "metadata": {},
          "execution_count": 1748
        }
      ]
    },
    {
      "cell_type": "code",
      "source": [
        "y_test"
      ],
      "metadata": {
        "id": "z0zg-EjjcxTn",
        "colab": {
          "base_uri": "https://localhost:8080/"
        },
        "outputId": "fcfc2ab1-b43e-4ab7-e695-b9e417cbe002"
      },
      "execution_count": 1749,
      "outputs": [
        {
          "output_type": "execute_result",
          "data": {
            "text/plain": [
              "array([0, 0, 1, ..., 0, 0, 1])"
            ]
          },
          "metadata": {},
          "execution_count": 1749
        }
      ]
    },
    {
      "cell_type": "code",
      "source": [
        "corr_data = data.iloc[:,:]\n",
        "\n",
        "# Encode string columns to numerical values\n",
        "for col in corr_data.columns:\n",
        "    if corr_data[col].dtype == 'object':\n",
        "        corr_data[col] = lbl.fit_transform(corr_data[col])\n",
        "\n",
        "corr = corr_data.corr()\n",
        "\n",
        "#Top 50% Correlation training features with the Value\n",
        "top_feature = corr.index[abs(corr['Income ']) > 0.1]\n",
        "#Correlation plot\n",
        "plt.subplots(figsize=(12, 8))\n",
        "top_corr = corr_data[top_feature].corr()\n",
        "sns.heatmap(top_corr, annot=True)\n",
        "plt.show()"
      ],
      "metadata": {
        "id": "aYZY3B2nvwNj",
        "colab": {
          "base_uri": "https://localhost:8080/",
          "height": 682
        },
        "outputId": "0306773b-de7a-4b60-b0cb-1d74b60b187a"
      },
      "execution_count": 1750,
      "outputs": [
        {
          "output_type": "display_data",
          "data": {
            "text/plain": [
              "<Figure size 1200x800 with 2 Axes>"
            ],
            "image/png": "[encoded data removed]"
          },
          "metadata": {}
        }
      ]
    },
    {
      "cell_type": "code",
      "source": [
        "print(\"Accuracy  : \", accuracy_score(y_test, y_pred))\n",
        "print(\"Precision : \", precision_score(y_test,y_pred))\n",
        "print(\"Recall : \", recall_score(y_test,y_pred))\n",
        "print(\"F1-Score : \", f1_score(y_test,y_pred))\n",
        "\n",
        "cm = confusion_matrix(y_test, y_pred)\n",
        "print (\"Confusion Matrix : \\n\", cm)"
      ],
      "metadata": {
        "id": "cNwGU5AdcJYI",
        "colab": {
          "base_uri": "https://localhost:8080/"
        },
        "outputId": "1cf4afbd-cb96-4942-8c84-bdf615d2c341"
      },
      "execution_count": 1751,
      "outputs": [
        {
          "output_type": "stream",
          "name": "stdout",
          "text": [
            "Accuracy  :  0.8016092377618083\n",
            "Precision :  0.6307300509337861\n",
            "Recall :  0.38637545501820075\n",
            "F1-Score :  0.47920025798129634\n",
            "Confusion Matrix : \n",
            " [[11565   870]\n",
            " [ 2360  1486]]\n"
          ]
        }
      ]
    },
    {
      "cell_type": "code",
      "source": [
        "#Decision Tree\n",
        "classifier = DecisionTreeClassifier()\n",
        "classifier = classifier.fit(x_train,y_train)\n",
        "y_pred = classifier.predict(x_test)"
      ],
      "metadata": {
        "id": "EoEKZMMXfRSp"
      },
      "execution_count": 1752,
      "outputs": []
    },
    {
      "cell_type": "code",
      "source": [
        "print(\"Accuracy  : \", accuracy_score(y_test, y_pred))\n",
        "print(\"Precision : \", precision_score(y_test,y_pred))\n",
        "print(\"Recall : \", recall_score(y_test,y_pred))\n",
        "print(\"F1-Score : \", f1_score(y_test,y_pred))\n",
        "\n",
        "cm = confusion_matrix(y_test, y_pred)\n",
        "print (\"Confusion Matrix : \\n\", cm)"
      ],
      "metadata": {
        "id": "PjkLdVOCg2jV",
        "colab": {
          "base_uri": "https://localhost:8080/"
        },
        "outputId": "6e7c3928-e8ca-4037-f487-c990daacebc0"
      },
      "execution_count": 1753,
      "outputs": [
        {
          "output_type": "stream",
          "name": "stdout",
          "text": [
            "Accuracy  :  0.7855782814323444\n",
            "Precision :  0.5476766048885308\n",
            "Recall :  0.5301612064482579\n",
            "F1-Score :  0.5387765887171357\n",
            "Confusion Matrix : \n",
            " [[10751  1684]\n",
            " [ 1807  2039]]\n"
          ]
        }
      ]
    },
    {
      "cell_type": "code",
      "source": [
        "#SVM Tree\n",
        "classifier = SVC(C=1.0, random_state=1, kernel='linear')\n",
        "classifier.fit(x_train, y_train)\n",
        "y_pred = classifier.predict(x_test)"
      ],
      "metadata": {
        "id": "bZACzrjYg9jL"
      },
      "execution_count": 1754,
      "outputs": []
    },
    {
      "cell_type": "code",
      "source": [
        "print(\"Accuracy  : \", accuracy_score(y_test, y_pred))\n",
        "print(\"Precision : \", precision_score(y_test,y_pred))\n",
        "print(\"Recall : \", recall_score(y_test,y_pred))\n",
        "print(\"F1-Score : \", f1_score(y_test,y_pred))\n",
        "\n",
        "cm = confusion_matrix(y_test, y_pred)\n",
        "print (\"Confusion Matrix : \\n\", cm)"
      ],
      "metadata": {
        "id": "PbbfKRwriRWR",
        "colab": {
          "base_uri": "https://localhost:8080/"
        },
        "outputId": "4389c6af-9f46-4792-ac7e-56f5cbc9ec56"
      },
      "execution_count": 1755,
      "outputs": [
        {
          "output_type": "stream",
          "name": "stdout",
          "text": [
            "Accuracy  :  0.8041275105951723\n",
            "Precision :  0.6537201684604586\n",
            "Recall :  0.36323452938117523\n",
            "F1-Score :  0.46698980444593013\n",
            "Confusion Matrix : \n",
            " [[11695   740]\n",
            " [ 2449  1397]]\n"
          ]
        }
      ]
    }
  ]
}